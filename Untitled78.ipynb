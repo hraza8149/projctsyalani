{
 "cells": [
  {
   "cell_type": "markdown",
   "metadata": {},
   "source": [
    "# 21-jan-2021 AI-DS Class"
   ]
  },
  {
   "cell_type": "markdown",
   "metadata": {},
   "source": [
    "# Write a function called make_album() that builds a dictionary\n",
    "describing a music album. The function should take in an artist name and an\n",
    "album title, and it should return a dictionary containing these two pieces of\n",
    "information. Use the function to make three dictionaries representing different\n",
    "albums. Print each return value to show that the dictionaries are storing the\n",
    "album information correctly.\n",
    "Add an optional parameter to make_album() that allows you to store the\n",
    "number of tracks on an album. If the calling line includes a value for the number of tracks, add that value to the album’s dictionary. Make at least one new\n",
    "function call that includes the number of tracks on an album"
   ]
  },
  {
   "cell_type": "code",
   "execution_count": null,
   "metadata": {},
   "outputs": [],
   "source": []
  },
  {
   "cell_type": "code",
   "execution_count": 11,
   "metadata": {},
   "outputs": [],
   "source": [
    "def make_album():\n",
    "    name = input(\"enter name\")\n",
    "    title = input(\"enter title\")\n",
    "    adic = {'name':name,'title':title}\n",
    "    print(adic)\n",
    "    \n",
    "    "
   ]
  },
  {
   "cell_type": "code",
   "execution_count": null,
   "metadata": {},
   "outputs": [],
   "source": []
  },
  {
   "cell_type": "code",
   "execution_count": null,
   "metadata": {},
   "outputs": [],
   "source": []
  },
  {
   "cell_type": "code",
   "execution_count": 20,
   "metadata": {},
   "outputs": [],
   "source": [
    "def make_album1(artist_name,album_title):\n",
    "    dic = {\"artisit_name\":artist_name,\"album_title\":album_title}\n",
    "    return dic\n",
    "    "
   ]
  },
  {
   "cell_type": "code",
   "execution_count": null,
   "metadata": {},
   "outputs": [],
   "source": []
  },
  {
   "cell_type": "code",
   "execution_count": 18,
   "metadata": {},
   "outputs": [
    {
     "ename": "TypeError",
     "evalue": "make_album() takes 0 positional arguments but 2 were given",
     "output_type": "error",
     "traceback": [
      "\u001b[1;31m---------------------------------------------------------------------------\u001b[0m",
      "\u001b[1;31mTypeError\u001b[0m                                 Traceback (most recent call last)",
      "\u001b[1;32m<ipython-input-18-8299497bb21c>\u001b[0m in \u001b[0;36m<module>\u001b[1;34m\u001b[0m\n\u001b[1;32m----> 1\u001b[1;33m \u001b[0mmake_album\u001b[0m\u001b[1;33m(\u001b[0m\u001b[1;34m\"hadi\"\u001b[0m\u001b[1;33m,\u001b[0m\u001b[1;34m\"abcd\"\u001b[0m\u001b[1;33m)\u001b[0m\u001b[1;33m\u001b[0m\u001b[1;33m\u001b[0m\u001b[0m\n\u001b[0m",
      "\u001b[1;31mTypeError\u001b[0m: make_album() takes 0 positional arguments but 2 were given"
     ]
    }
   ],
   "source": [
    "make_album(\"hadi\",\"abcd\")"
   ]
  },
  {
   "cell_type": "code",
   "execution_count": 21,
   "metadata": {},
   "outputs": [],
   "source": [
    "album1 = make_album1(\"hadi\",\"abcd\")\n",
    "album2 = make_album1(\"hadi1\",\"abcd1\")\n",
    "album3 = make_album1(\"hadi2\",\"abcd2\")\n",
    "\n"
   ]
  },
  {
   "cell_type": "code",
   "execution_count": 23,
   "metadata": {},
   "outputs": [
    {
     "name": "stdout",
     "output_type": "stream",
     "text": [
      "{'artisit_name': 'hadi', 'album_title': 'abcd'} {'artisit_name': 'hadi1', 'album_title': 'abcd1'} {'artisit_name': 'hadi2', 'album_title': 'abcd2'}\n"
     ]
    }
   ],
   "source": [
    "print(album1,album2,album3)"
   ]
  },
  {
   "cell_type": "code",
   "execution_count": 45,
   "metadata": {},
   "outputs": [],
   "source": [
    "def make_album2(artist_name,album_title,tracks=\"\"):\n",
    "    dic = {\"artisit_name\":artist_name,\"album_title\":album_title}\n",
    "    if tracks:\n",
    "        dic['tracks']=tracks\n",
    "    return dic"
   ]
  },
  {
   "cell_type": "code",
   "execution_count": null,
   "metadata": {},
   "outputs": [],
   "source": []
  },
  {
   "cell_type": "code",
   "execution_count": 46,
   "metadata": {},
   "outputs": [],
   "source": [
    "album1 = make_album2(\"hadi\",\"abcd\",4)\n",
    "album2 = make_album2(\"hadi1\",\"abcd1\")\n",
    "album3 = make_album2(\"hadi2\",\"abcd2\",5)"
   ]
  },
  {
   "cell_type": "code",
   "execution_count": null,
   "metadata": {},
   "outputs": [],
   "source": []
  },
  {
   "cell_type": "code",
   "execution_count": 47,
   "metadata": {},
   "outputs": [
    {
     "name": "stdout",
     "output_type": "stream",
     "text": [
      "{'artisit_name': 'hadi', 'album_title': 'abcd', 'tracks': 4} {'artisit_name': 'hadi1', 'album_title': 'abcd1'} {'artisit_name': 'hadi2', 'album_title': 'abcd2', 'tracks': 5}\n"
     ]
    }
   ],
   "source": [
    "print(album1,album2,album3)"
   ]
  },
  {
   "cell_type": "markdown",
   "metadata": {},
   "source": [
    "# Start with your program from Exercise 8-7. Write a while\n",
    "loop that allows users to enter an album’s artist and title. Once you have that\n",
    "information, call make_album() with the user’s input and print the dictionary\n",
    "that’s created. Be sure to include a quit value in the while loop."
   ]
  },
  {
   "cell_type": "code",
   "execution_count": 61,
   "metadata": {},
   "outputs": [],
   "source": [
    "def make_album3():\n",
    "    boolean = True\n",
    "    adic = []\n",
    "    while(boolean):\n",
    "        artist_name = input(\"enter artist name\")\n",
    "        album_title = input(\"enter artist title\")\n",
    "        tracks = input(\"enter no of tracks\")\n",
    "        cont = input(\"do you want to continue\")\n",
    "        dic = {\"artisit_name\":artist_name,\"album_title\":album_title}\n",
    "        if tracks:\n",
    "            dic['tracks']=tracks\n",
    "            \n",
    "        if cont == \"no\":\n",
    "            boolean = False\n",
    "            \n",
    "        adic1 = adic.append(dic)\n",
    "    return adic1"
   ]
  },
  {
   "cell_type": "code",
   "execution_count": null,
   "metadata": {},
   "outputs": [],
   "source": []
  },
  {
   "cell_type": "code",
   "execution_count": null,
   "metadata": {},
   "outputs": [],
   "source": []
  },
  {
   "cell_type": "code",
   "execution_count": null,
   "metadata": {},
   "outputs": [],
   "source": []
  },
  {
   "cell_type": "code",
   "execution_count": null,
   "metadata": {},
   "outputs": [],
   "source": []
  },
  {
   "cell_type": "code",
   "execution_count": null,
   "metadata": {},
   "outputs": [],
   "source": []
  },
  {
   "cell_type": "code",
   "execution_count": 62,
   "metadata": {},
   "outputs": [
    {
     "name": "stdout",
     "output_type": "stream",
     "text": [
      "enter artist nameaaa\n",
      "enter artist titlesss\n",
      "enter no of tracksddd\n",
      "do you want to continueyes\n",
      "enter artist nameaaaa\n",
      "enter artist titlesss\n",
      "enter no of tracksddd\n",
      "do you want to continueyes\n",
      "enter artist nameaaaa\n",
      "enter artist titleddd\n",
      "enter no of tracksrfff\n",
      "do you want to continueno\n"
     ]
    }
   ],
   "source": [
    "make_album3()"
   ]
  },
  {
   "cell_type": "code",
   "execution_count": 63,
   "metadata": {},
   "outputs": [
    {
     "ename": "NameError",
     "evalue": "name 'adic1' is not defined",
     "output_type": "error",
     "traceback": [
      "\u001b[1;31m---------------------------------------------------------------------------\u001b[0m",
      "\u001b[1;31mNameError\u001b[0m                                 Traceback (most recent call last)",
      "\u001b[1;32m<ipython-input-63-ebc6d39abb62>\u001b[0m in \u001b[0;36m<module>\u001b[1;34m\u001b[0m\n\u001b[1;32m----> 1\u001b[1;33m \u001b[0madic1\u001b[0m\u001b[1;33m\u001b[0m\u001b[1;33m\u001b[0m\u001b[0m\n\u001b[0m",
      "\u001b[1;31mNameError\u001b[0m: name 'adic1' is not defined"
     ]
    }
   ],
   "source": [
    "adic1"
   ]
  },
  {
   "cell_type": "code",
   "execution_count": 64,
   "metadata": {},
   "outputs": [
    {
     "name": "stdout",
     "output_type": "stream",
     "text": [
      "enter artist nameaaa\n",
      "enter artist titlesss\n",
      "enter no of tracksdd\n",
      "do you want to continue\n",
      "enter artist namedddd\n",
      "enter artist titlefff\n",
      "enter no of trackssss\n",
      "do you want to continuedddd\n",
      "enter artist nameddd\n",
      "enter artist title\n",
      "enter no of tracksddd\n",
      "do you want to continueno\n"
     ]
    }
   ],
   "source": [
    "album1 = make_album3()"
   ]
  },
  {
   "cell_type": "code",
   "execution_count": 67,
   "metadata": {},
   "outputs": [],
   "source": [
    "album1"
   ]
  },
  {
   "cell_type": "code",
   "execution_count": null,
   "metadata": {},
   "outputs": [],
   "source": []
  },
  {
   "cell_type": "code",
   "execution_count": 99,
   "metadata": {},
   "outputs": [],
   "source": [
    "def salarycalc(basic_salary,sales):\n",
    "    tot_det = tax_calc(basic_salary) + provident_fund(basic_salary)\n",
    "    gross_salary = (basic_salary - tot_det) + commision(sales)\n",
    "    return gross_salary\n",
    "\n",
    "\n",
    "def tax_calc(basic_salary):\n",
    "    \n",
    "    tax_det = 0\n",
    "    if basic_salary <30000:\n",
    "        tax_det  = 0\n",
    "    elif basic_salary >=30000 and basic_salary <50000:\n",
    "        tax_det = 5\n",
    "    elif basic_salary >=50000 and basic_salary <100000:\n",
    "        tax_det = 10\n",
    "    else:\n",
    "        tax_det = 15\n",
    "    \n",
    "    tax_detc = basic_salary*tax_det/100\n",
    "    return tax_detc\n",
    "\n",
    "def provident_fund(basic_salary):\n",
    "    \n",
    "    tax_det = 0\n",
    "    if basic_salary <30000:\n",
    "        tax_det  = 3\n",
    "    elif basic_salary >=30000 and basic_salary <50000:\n",
    "        tax_det = 4\n",
    "    elif basic_salary >=50000 and basic_salary <100000:\n",
    "        tax_det = 5\n",
    "    else:\n",
    "        tax_det = 6\n",
    "    \n",
    "    prov_fund = basic_salary*tax_det/100\n",
    "    return prov_fund\n",
    "\n",
    "\n",
    "def commision(sales):\n",
    "    \n",
    "    comm = 0\n",
    "    if sales <300000:\n",
    "        comm  = 3\n",
    "    elif sales >=300000 and sales <500000:\n",
    "        comm = 4\n",
    "    elif sales >=500000 and sales <1000000:\n",
    "        comm = 5\n",
    "    else:\n",
    "        comm = 6\n",
    "    \n",
    "    commis = sales*comm/100\n",
    "    return commis"
   ]
  },
  {
   "cell_type": "code",
   "execution_count": null,
   "metadata": {},
   "outputs": [],
   "source": []
  },
  {
   "cell_type": "code",
   "execution_count": null,
   "metadata": {},
   "outputs": [],
   "source": []
  },
  {
   "cell_type": "code",
   "execution_count": null,
   "metadata": {},
   "outputs": [],
   "source": []
  },
  {
   "cell_type": "code",
   "execution_count": null,
   "metadata": {},
   "outputs": [],
   "source": []
  },
  {
   "cell_type": "code",
   "execution_count": null,
   "metadata": {},
   "outputs": [],
   "source": []
  },
  {
   "cell_type": "code",
   "execution_count": 100,
   "metadata": {},
   "outputs": [
    {
     "name": "stdout",
     "output_type": "stream",
     "text": [
      "\n",
      "Enter the basic salary of the employee200000\n",
      "\n",
      "Enter the sales3000000\n",
      "the gross salary of the employee is 338000.0\n"
     ]
    }
   ],
   "source": [
    "basic_salary = int(input(\"\\nEnter the basic salary of the employee\"))\n",
    "sales = int(input(\"\\nEnter the sales\"))\n",
    "grosssalary = salarycalc(basic_salary,sales)\n",
    "print(f\"the gross salary of the employee is {grosssalary}\")"
   ]
  },
  {
   "cell_type": "code",
   "execution_count": null,
   "metadata": {},
   "outputs": [],
   "source": []
  },
  {
   "cell_type": "code",
   "execution_count": null,
   "metadata": {},
   "outputs": [],
   "source": []
  },
  {
   "cell_type": "code",
   "execution_count": null,
   "metadata": {},
   "outputs": [],
   "source": []
  },
  {
   "cell_type": "code",
   "execution_count": null,
   "metadata": {},
   "outputs": [],
   "source": []
  },
  {
   "cell_type": "code",
   "execution_count": null,
   "metadata": {},
   "outputs": [],
   "source": []
  },
  {
   "cell_type": "code",
   "execution_count": null,
   "metadata": {},
   "outputs": [],
   "source": []
  },
  {
   "cell_type": "code",
   "execution_count": null,
   "metadata": {},
   "outputs": [],
   "source": []
  },
  {
   "cell_type": "code",
   "execution_count": null,
   "metadata": {},
   "outputs": [],
   "source": []
  },
  {
   "cell_type": "code",
   "execution_count": null,
   "metadata": {},
   "outputs": [],
   "source": []
  },
  {
   "cell_type": "code",
   "execution_count": null,
   "metadata": {},
   "outputs": [],
   "source": []
  },
  {
   "cell_type": "code",
   "execution_count": null,
   "metadata": {},
   "outputs": [],
   "source": []
  },
  {
   "cell_type": "code",
   "execution_count": null,
   "metadata": {},
   "outputs": [],
   "source": []
  },
  {
   "cell_type": "code",
   "execution_count": null,
   "metadata": {},
   "outputs": [],
   "source": []
  },
  {
   "cell_type": "code",
   "execution_count": null,
   "metadata": {},
   "outputs": [],
   "source": []
  },
  {
   "cell_type": "code",
   "execution_count": null,
   "metadata": {},
   "outputs": [],
   "source": []
  },
  {
   "cell_type": "code",
   "execution_count": null,
   "metadata": {},
   "outputs": [],
   "source": []
  },
  {
   "cell_type": "code",
   "execution_count": null,
   "metadata": {},
   "outputs": [],
   "source": []
  },
  {
   "cell_type": "code",
   "execution_count": null,
   "metadata": {},
   "outputs": [],
   "source": []
  },
  {
   "cell_type": "code",
   "execution_count": null,
   "metadata": {},
   "outputs": [],
   "source": []
  },
  {
   "cell_type": "code",
   "execution_count": null,
   "metadata": {},
   "outputs": [],
   "source": []
  },
  {
   "cell_type": "code",
   "execution_count": null,
   "metadata": {},
   "outputs": [],
   "source": []
  },
  {
   "cell_type": "code",
   "execution_count": null,
   "metadata": {},
   "outputs": [],
   "source": []
  },
  {
   "cell_type": "code",
   "execution_count": null,
   "metadata": {},
   "outputs": [],
   "source": []
  },
  {
   "cell_type": "code",
   "execution_count": null,
   "metadata": {},
   "outputs": [],
   "source": []
  },
  {
   "cell_type": "code",
   "execution_count": null,
   "metadata": {},
   "outputs": [],
   "source": []
  }
 ],
 "metadata": {
  "kernelspec": {
   "display_name": "Python 3",
   "language": "python",
   "name": "python3"
  },
  "language_info": {
   "codemirror_mode": {
    "name": "ipython",
    "version": 3
   },
   "file_extension": ".py",
   "mimetype": "text/x-python",
   "name": "python",
   "nbconvert_exporter": "python",
   "pygments_lexer": "ipython3",
   "version": "3.7.6"
  }
 },
 "nbformat": 4,
 "nbformat_minor": 4
}
